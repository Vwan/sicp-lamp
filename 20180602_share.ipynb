{
 "cells": [
  {
   "cell_type": "markdown",
   "metadata": {},
   "source": [
    "\n",
    "\n",
    "# DU59\n",
    "\n",
    "## SICP\n",
    "\n",
    "### 代换模型(Substition Model)\n",
    "\n",
    "求阶乘：n!=n⋅(n−1)⋅(n−2)⋯3⋅2⋅1."
   ]
  },
  {
   "cell_type": "code",
   "execution_count": 13,
   "metadata": {},
   "outputs": [
    {
     "data": {
      "text/plain": [
       "720"
      ]
     },
     "execution_count": 13,
     "metadata": {},
     "output_type": "execute_result"
    }
   ],
   "source": [
    "# 实现方式1\n",
    "def factorial(n):\n",
    "    if n == 1:\n",
    "        return 1\n",
    "    else: \n",
    "        return n * factorial(n-1)\n",
    "\n",
    "factorial(6)"
   ]
  },
  {
   "cell_type": "markdown",
   "metadata": {},
   "source": [
    "![image-20180531222556026](https://ws4.sinaimg.cn/large/006tKfTcly1frx2txa27wj30tm0iin0v.jpg)\n",
    "\n"
   ]
  },
  {
   "cell_type": "markdown",
   "metadata": {},
   "source": [
    "几种替换模型：\n",
    "\n",
    "- Applicative-order Model（evaluate the arguments and then apply）\n",
    "\n",
    "  Lisp用此模式，先带入操作数，后apply 操作符\n",
    "\n",
    "- Normal-order Mode（fully expand and then reduce）\n",
    "\n",
    "  先将所有的元素都解析成最原始的操作符，再将操作数代入。"
   ]
  },
  {
   "cell_type": "markdown",
   "metadata": {},
   "source": [
    "\n",
    "\n",
    "### 递归过程(Recursive Process) vs 迭代过程(Iterative Process)\n",
    "\n",
    "Recursive Process: 上图\n",
    "\n",
    "    - 展开然后收缩(expand/shrink)\n",
    "    - 一连串的延迟操作(a chain of deferred operations)\n",
    "    - 需要占用较多内存\n",
    "\t\n",
    "Iterative Process: 下图\n",
    "    - 不展开/收缩\n",
    "    - 只需要在内存中管理某些参数值"
   ]
  },
  {
   "cell_type": "code",
   "execution_count": 14,
   "metadata": {},
   "outputs": [
    {
     "name": "stdout",
     "output_type": "stream",
     "text": [
      "720\n"
     ]
    }
   ],
   "source": [
    "# 实现方式2\n",
    "def factorial(n):\n",
    "    def iter(result, count, max):\n",
    "        if count > max:\n",
    "            return result\n",
    "        else:\n",
    "            return iter(result * count, count + 1, max)\n",
    "    return iter(1, 1, n)\n",
    "\n",
    "print(factorial(6))"
   ]
  },
  {
   "cell_type": "markdown",
   "metadata": {},
   "source": [
    "![image-20180531222625776](https://ws2.sinaimg.cn/large/006tKfTcly1frx2v4ky94j30t90foq54.jpg)"
   ]
  },
  {
   "cell_type": "markdown",
   "metadata": {},
   "source": [
    "### Recursive Procedure vs Recursive Process\n",
    "\n",
    "问题：为什么“实现方式2”中使用了回归函数，但是却是“迭代过程”而非“回归过程”？\n",
    "\n",
    "原因：Procedure和Process不同"
   ]
  },
  {
   "cell_type": "markdown",
   "metadata": {},
   "source": [
    "#### Procedure vs Process\n",
    "\n",
    "procedure中文译为”过程“，process一般指程序在计算机中运行的进程。process是procedure运行时在计算机中的进程状态变化。打个不是特别准确的比喻：\n",
    "\n",
    "- 我们做计划（定义procedure)\n",
    "- 执行计划（执行procedure）\n",
    "- 观察计划执行情况(process)\n",
    "- 调整改正计划(debug)\n",
    "\n",
    "Procedure：静态，语法层面\n",
    "\n",
    "Process: 动态，计算执行"
   ]
  },
  {
   "cell_type": "markdown",
   "metadata": {},
   "source": [
    "### 进一步引发问题：为什么会有Recursive 和 Iterative的困惑？"
   ]
  },
  {
   "cell_type": "markdown",
   "metadata": {},
   "source": [
    "多数程序语言在解析递归程序的时候，会占用很大的内存，\n",
    "以factorial(n)为例，n越大，调用自身的次数越多，占用的内存越大"
   ]
  },
  {
   "cell_type": "markdown",
   "metadata": {},
   "source": [
    "这些程序语言通过for, while...loop 解决此问题。\n",
    "\n",
    "Scheme：无此问题。尾递归技术解决(tail-recursive)"
   ]
  },
  {
   "cell_type": "code",
   "execution_count": null,
   "metadata": {},
   "outputs": [],
   "source": []
  }
 ],
 "metadata": {
  "gist": {
   "data": {
    "description": "Untitled.ipynb",
    "public": false
   },
   "id": ""
  },
  "kernelspec": {
   "display_name": "Python 3",
   "language": "python",
   "name": "python3"
  },
  "language_info": {
   "codemirror_mode": {
    "name": "ipython",
    "version": 3
   },
   "file_extension": ".py",
   "mimetype": "text/x-python",
   "name": "python",
   "nbconvert_exporter": "python",
   "pygments_lexer": "ipython3",
   "version": "3.6.5"
  },
  "toc": {
   "base_numbering": 1,
   "nav_menu": {},
   "number_sections": true,
   "sideBar": true,
   "skip_h1_title": false,
   "title_cell": "Table of Contents",
   "title_sidebar": "Contents",
   "toc_cell": false,
   "toc_position": {
    "height": "calc(100% - 180px)",
    "left": "10px",
    "top": "150px",
    "width": "205px"
   },
   "toc_section_display": true,
   "toc_window_display": true
  }
 },
 "nbformat": 4,
 "nbformat_minor": 2
}
